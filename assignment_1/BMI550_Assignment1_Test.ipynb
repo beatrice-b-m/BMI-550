{
  "cells": [
    {
      "cell_type": "code",
      "execution_count": 28,
      "metadata": {
        "id": "_Cs1z5LxdtaH"
      },
      "outputs": [],
      "source": [
        "import nltk\n",
        "import re\n",
        "import os\n",
        "import pandas as pd\n",
        "from dataclasses import dataclass, field\n",
        "from collections import OrderedDict"
      ]
    },
    {
      "cell_type": "code",
      "execution_count": 3,
      "metadata": {
        "colab": {
          "base_uri": "https://localhost:8080/",
          "height": 411
        },
        "id": "-umJEam_eDAm",
        "outputId": "039b0b75-8e40-43d1-88c9-16b15719842c"
      },
      "outputs": [
        {
          "data": {
            "text/html": [
              "<div>\n",
              "<style scoped>\n",
              "    .dataframe tbody tr th:only-of-type {\n",
              "        vertical-align: middle;\n",
              "    }\n",
              "\n",
              "    .dataframe tbody tr th {\n",
              "        vertical-align: top;\n",
              "    }\n",
              "\n",
              "    .dataframe thead th {\n",
              "        text-align: right;\n",
              "    }\n",
              "</style>\n",
              "<table border=\"1\" class=\"dataframe\">\n",
              "  <thead>\n",
              "    <tr style=\"text-align: right;\">\n",
              "      <th></th>\n",
              "      <th>symptom</th>\n",
              "      <th>cui</th>\n",
              "      <th>expression</th>\n",
              "    </tr>\n",
              "  </thead>\n",
              "  <tbody>\n",
              "    <tr>\n",
              "      <th>0</th>\n",
              "      <td>Anxiety, stress &amp; general mental health symptoms</td>\n",
              "      <td>C1832070</td>\n",
              "      <td>Anxiety</td>\n",
              "    </tr>\n",
              "    <tr>\n",
              "      <th>1</th>\n",
              "      <td>Anxiety, stress &amp; general mental health symptoms</td>\n",
              "      <td>C1832070</td>\n",
              "      <td>worry</td>\n",
              "    </tr>\n",
              "    <tr>\n",
              "      <th>2</th>\n",
              "      <td>Anxiety, stress &amp; general mental health symptoms</td>\n",
              "      <td>C1832070</td>\n",
              "      <td>stressed</td>\n",
              "    </tr>\n",
              "    <tr>\n",
              "      <th>3</th>\n",
              "      <td>Anxiety, stress &amp; general mental health symptoms</td>\n",
              "      <td>C1832070</td>\n",
              "      <td>anxious</td>\n",
              "    </tr>\n",
              "    <tr>\n",
              "      <th>4</th>\n",
              "      <td>Anxiety, stress &amp; general mental health symptoms</td>\n",
              "      <td>C1832070</td>\n",
              "      <td>panic attacks</td>\n",
              "    </tr>\n",
              "    <tr>\n",
              "      <th>...</th>\n",
              "      <td>...</td>\n",
              "      <td>...</td>\n",
              "      <td>...</td>\n",
              "    </tr>\n",
              "    <tr>\n",
              "      <th>663</th>\n",
              "      <td>Nasal dryness</td>\n",
              "      <td>C0231919</td>\n",
              "      <td>very dry nose</td>\n",
              "    </tr>\n",
              "    <tr>\n",
              "      <th>664</th>\n",
              "      <td>Rash</td>\n",
              "      <td>C0015230</td>\n",
              "      <td>rash in elbow</td>\n",
              "    </tr>\n",
              "    <tr>\n",
              "      <th>665</th>\n",
              "      <td>Rash</td>\n",
              "      <td>C0015230</td>\n",
              "      <td>rash all over my body</td>\n",
              "    </tr>\n",
              "    <tr>\n",
              "      <th>666</th>\n",
              "      <td>Lymphadenopathy</td>\n",
              "      <td>C0497156</td>\n",
              "      <td>Lymph nodes swollen</td>\n",
              "    </tr>\n",
              "    <tr>\n",
              "      <th>667</th>\n",
              "      <td>Lymphadenopathy</td>\n",
              "      <td>C0497156</td>\n",
              "      <td>swollen nodes</td>\n",
              "    </tr>\n",
              "  </tbody>\n",
              "</table>\n",
              "<p>668 rows × 3 columns</p>\n",
              "</div>"
            ],
            "text/plain": [
              "                                              symptom       cui  \\\n",
              "0    Anxiety, stress & general mental health symptoms  C1832070   \n",
              "1    Anxiety, stress & general mental health symptoms  C1832070   \n",
              "2    Anxiety, stress & general mental health symptoms  C1832070   \n",
              "3    Anxiety, stress & general mental health symptoms  C1832070   \n",
              "4    Anxiety, stress & general mental health symptoms  C1832070   \n",
              "..                                                ...       ...   \n",
              "663                                     Nasal dryness  C0231919   \n",
              "664                                              Rash  C0015230   \n",
              "665                                              Rash  C0015230   \n",
              "666                                   Lymphadenopathy  C0497156   \n",
              "667                                   Lymphadenopathy  C0497156   \n",
              "\n",
              "                expression  \n",
              "0                  Anxiety  \n",
              "1                    worry  \n",
              "2                 stressed  \n",
              "3                  anxious  \n",
              "4            panic attacks  \n",
              "..                     ...  \n",
              "663          very dry nose  \n",
              "664          rash in elbow  \n",
              "665  rash all over my body  \n",
              "666    Lymph nodes swollen  \n",
              "667          swollen nodes  \n",
              "\n",
              "[668 rows x 3 columns]"
            ]
          },
          "execution_count": 3,
          "metadata": {},
          "output_type": "execute_result"
        }
      ],
      "source": [
        "lexicon_path = './COVID-Twitter-Symptom-Lexicon.txt'\n",
        "base_lexicon = pd.read_csv(lexicon_path, delimiter='\\t', header=None)\n",
        "base_lexicon.columns = ['symptom', 'cui', 'expression']\n",
        "base_lexicon"
      ]
    },
    {
      "cell_type": "code",
      "execution_count": 25,
      "metadata": {
        "id": "kssfX_FhfBTn"
      },
      "outputs": [],
      "source": [
        "class Lexicon:\n",
        "    def __init__(self, base_txt_path):\n",
        "        self.base_lexicon = self._load_base_lexicon(base_txt_path)\n",
        "        self.symptom_dict = {}\n",
        "        self._build_symptom_dict_from_base()\n",
        "        self.vocabulary = {}\n",
        "        self._build_vocabulary()\n",
        "\n",
        "    def _build_symptom_dict_from_base(self):\n",
        "        # get array of unique cuis\n",
        "        cui_array = self.base_lexicon.cui.unique()\n",
        "\n",
        "        # iterate over cui array\n",
        "        for cui in cui_array:\n",
        "            # get sub dataframe from the base lexicon\n",
        "            symptom_df = self.base_lexicon[self.base_lexicon.cui == cui]\n",
        "\n",
        "            # get symptom name\n",
        "            symptom_name = symptom_df.symptom.unique()[0]\n",
        "\n",
        "            # get list of unique expressions for the symptom\n",
        "            expression_list = list(symptom_df.expression.unique())\n",
        "\n",
        "            # assign symptom object to symptom dictionary with cui as key\n",
        "            symptom_object = Symptom(symptom_name, cui, expression_list)\n",
        "            symptom_object.get_tokens()\n",
        "            self.symptom_dict[cui] = symptom_object\n",
        "\n",
        "    def _build_vocabulary(self):\n",
        "        # initialize empty list\n",
        "        full_token_list = []\n",
        "\n",
        "        # iterate over symptoms, appending tokens to the full_token_list\n",
        "        for symptom_object in self.symptom_dict.values():\n",
        "            full_token_list += symptom_object.token_list\n",
        "        \n",
        "        # save set of full token list to self.vocabulary\n",
        "        self.vocabulary = list(set(full_token_list))\n",
        "\n",
        "    def _build_symptom_count_vectors(self):\n",
        "        for symptom_object in self.symptom_dict.values():\n",
        "            symptom_object.build_count_vector(self.vocabulary)\n",
        "\n",
        "    def _build_total_count_vector(self):\n",
        "        # build ordered dict from vocabulary list\n",
        "        count_dict = OrderedDict((word, 0) for word in self.vocabulary)\n",
        "\n",
        "        # iterate over tokens and increment count dict\n",
        "        for token in self.token_list:\n",
        "            count_dict[token] += 1\n",
        "\n",
        "    # def get_expression_tokens(self, target_symptom: str or None = None, preprocess: bool = False):\n",
        "    #     # if no target symptom is specified\n",
        "    #     if target_symptom is None:\n",
        "    #         # get nested list of expressions for each symptom\n",
        "    #         packed_expression_list = [s.expression_list for s in self.symptom_dict.values()]\n",
        "\n",
        "    #         # unpack nested list\n",
        "    #         unpacked_expression_list = [s for s in list(zip(*packed_expression_list))[0]]\n",
        "\n",
        "\n",
        "    #     else:\n",
        "    #         # tokenize expressions for given cui\n",
        "    #         unpacked_expression_list = self.symptom_dict.get(target_symptom)\n",
        "    #         assert unpacked_expression_list is not None, \"unrecognized cui !!!\"\n",
        "        \n",
        "\n",
        "        # expression_token_list = []\n",
        "        # # tokenize lists\n",
        "        # for expression_str in unpacked_expression_list:\n",
        "        #     expression_token_list += nltk.tokenize.word_tokenize(expression_str)\n",
        "\n",
        "        # if preprocess:\n",
        "        #     print('implement this first :P')\n",
        "        #     # apply preprocessing to tokens\n",
        "\n",
        "        # return expression_token_list\n",
        "        \n",
        "\n",
        "    def _preprocess_tokens(self, expression_list):\n",
        "        print('also implement this !!!')\n",
        "        # stem tokens\n",
        "        # stemmer = nltk.stem.PorterStemmer()\n",
        "        # stemmed_tokens = [stemmer.stem(t) for t in cleaned_tokens]\n",
        "\n",
        "\n",
        "    def _load_base_lexicon(self, lexicon_path):\n",
        "        base_lexicon = pd.read_csv(lexicon_path, delimiter='\\t', header=None)\n",
        "        base_lexicon.columns = ['symptom', 'cui', 'expression']\n",
        "        return base_lexicon\n",
        "\n",
        "# @dataclass\n",
        "class Symptom:\n",
        "    def __init__(self, name: str, cui: str, expression_list: list[str] = []):\n",
        "        self.name = name\n",
        "        self.cui = cui\n",
        "        self.expression_list = expression_list\n",
        "        self.token_list = []\n",
        "        self.token_count_vector = []\n",
        "        self.get_tokens()\n",
        "\n",
        "    def get_tokens(self, output: bool = False):\n",
        "        # reset token list\n",
        "        self.token_list = []\n",
        "\n",
        "        # iterate over expressions\n",
        "        for expression_str in self.expression_list:\n",
        "            # tokenize each and add to token list\n",
        "            self.token_list += nltk.tokenize.word_tokenize(expression_str)\n",
        "        \n",
        "        # if output is True, return self.token_list\n",
        "        if output:\n",
        "            return self.token_list\n",
        "        \n",
        "    def build_count_vector(self, vocabulary):\n",
        "        # build ordered dict from vocabulary list\n",
        "        count_dict = OrderedDict((word, 0) for word in vocabulary)\n",
        "\n",
        "        # iterate over tokens and increment count dict\n",
        "        for token in self.token_list:\n",
        "            count_dict[token] += 1\n",
        "\n",
        "    \n",
        "\n"
      ]
    },
    {
      "cell_type": "code",
      "execution_count": 26,
      "metadata": {
        "colab": {
          "base_uri": "https://localhost:8080/"
        },
        "id": "iOqcgdUtyuuI",
        "outputId": "5b5f81cc-26b4-4bb7-8527-57da4ae9be2e"
      },
      "outputs": [
        {
          "data": {
            "text/plain": [
              "{'C1832070': <__main__.Symptom at 0x7fb98a1c9d00>,\n",
              " 'C0008031': <__main__.Symptom at 0x7fb9792242e0>,\n",
              " 'C0010200': <__main__.Symptom at 0x7fb9792d3f10>,\n",
              " 'C0013404': <__main__.Symptom at 0x7fb9791ee1f0>,\n",
              " 'C0235710': <__main__.Symptom at 0x7fb9791ee130>,\n",
              " 'C0015672': <__main__.Symptom at 0x7fb98a1c9f40>,\n",
              " 'C2363731': <__main__.Symptom at 0x7fb98a1c9e20>,\n",
              " 'C0030252': <__main__.Symptom at 0x7fb98a1c9550>,\n",
              " 'C0012833': <__main__.Symptom at 0x7fb98a1c9df0>,\n",
              " 'C0018681': <__main__.Symptom at 0x7fb98a1c9b50>,\n",
              " 'C0948596': <__main__.Symptom at 0x7fb979224520>,\n",
              " 'C0149931': <__main__.Symptom at 0x7fb98a1c9e50>,\n",
              " 'C0015967': <__main__.Symptom at 0x7fb98a1c9100>,\n",
              " 'C0085593': <__main__.Symptom at 0x7fb98a1c9430>,\n",
              " 'C0027497': <__main__.Symptom at 0x7fb98a1375b0>,\n",
              " 'C0151827': <__main__.Symptom at 0x7fb97923b670>,\n",
              " 'C0232462': <__main__.Symptom at 0x7fb98a1c9be0>,\n",
              " 'C0003126': <__main__.Symptom at 0x7fb98a1c9f10>,\n",
              " 'C2364111': <__main__.Symptom at 0x7fb98a137f70>,\n",
              " 'C1260880': <__main__.Symptom at 0x7fb97923b910>,\n",
              " 'C0037383': <__main__.Symptom at 0x7fb98a1c9fd0>,\n",
              " 'C0020458': <__main__.Symptom at 0x7fb98a1b8a60>,\n",
              " 'C0231528': <__main__.Symptom at 0x7fb97923be80>,\n",
              " 'C0917801': <__main__.Symptom at 0x7fb98a1377f0>,\n",
              " 'C0042963': <__main__.Symptom at 0x7fb98a180bb0>,\n",
              " 'C0006277': <__main__.Symptom at 0x7fb97923bdf0>,\n",
              " 'C0000737': <__main__.Symptom at 0x7fb97931d640>,\n",
              " 'C0741585': <__main__.Symptom at 0x7fb97931d5e0>,\n",
              " 'C0023380': <__main__.Symptom at 0x7fb97931d580>,\n",
              " 'C0019079': <__main__.Symptom at 0x7fb97931d1f0>,\n",
              " 'C0043144': <__main__.Symptom at 0x7fb97931d250>,\n",
              " 'C0011991': <__main__.Symptom at 0x7fb97931d310>,\n",
              " 'C0033774': <__main__.Symptom at 0x7fb97931d040>,\n",
              " 'C0022107': <__main__.Symptom at 0x7fb97931d610>,\n",
              " 'C0041912': <__main__.Symptom at 0x7fb97931d130>,\n",
              " 'C0013456': <__main__.Symptom at 0x7fb9793c9940>,\n",
              " 'C0020538': <__main__.Symptom at 0x7fb98a1c9ac0>,\n",
              " 'C0011175': <__main__.Symptom at 0x7fb98a1b8e20>,\n",
              " 'C0003862': <__main__.Symptom at 0x7fb98a1c96d0>,\n",
              " 'C3665347': <__main__.Symptom at 0x7fb98a121130>,\n",
              " 'C0235567': <__main__.Symptom at 0x7fb97938db20>,\n",
              " 'C0600142': <__main__.Symptom at 0x7fb98a121fa0>,\n",
              " 'C0231919': <__main__.Symptom at 0x7fb97922eee0>,\n",
              " 'C0015230': <__main__.Symptom at 0x7fb98a19d8b0>,\n",
              " 'C0497156': <__main__.Symptom at 0x7fb97938dca0>}"
            ]
          },
          "execution_count": 26,
          "metadata": {},
          "output_type": "execute_result"
        }
      ],
      "source": [
        "test_lexicon = Lexicon(lexicon_path)\n",
        "test_lexicon.symptom_dict"
      ]
    },
    {
      "cell_type": "code",
      "execution_count": 27,
      "metadata": {},
      "outputs": [
        {
          "data": {
            "text/plain": [
              "['Anxiety',\n",
              " 'pain',\n",
              " 'with',\n",
              " 'my',\n",
              " 'lungs',\n",
              " 'coughing',\n",
              " 'out',\n",
              " 'of',\n",
              " 'breath',\n",
              " 'tight']"
            ]
          },
          "execution_count": 27,
          "metadata": {},
          "output_type": "execute_result"
        }
      ],
      "source": [
        "test_expr_tokens = test_lexicon.get_expression_tokens()\n",
        "test_expr_tokens[:10]"
      ]
    },
    {
      "cell_type": "code",
      "execution_count": 24,
      "metadata": {
        "colab": {
          "base_uri": "https://localhost:8080/"
        },
        "id": "UmwforIWfy3k",
        "outputId": "5882946a-eafd-4abc-e492-9d09dc342174"
      },
      "outputs": [
        {
          "data": {
            "text/plain": [
              "[('in', 3),\n",
              " ('pain', 2),\n",
              " ('my', 2),\n",
              " ('of', 2),\n",
              " ('pressure', 2),\n",
              " ('could', 2),\n",
              " ('not', 2),\n",
              " ('nose', 2),\n",
              " ('aches', 2),\n",
              " ('blood', 2),\n",
              " ('infection', 2),\n",
              " ('Anxiety', 1),\n",
              " ('with', 1),\n",
              " ('lungs', 1),\n",
              " ('coughing', 1),\n",
              " ('out', 1),\n",
              " ('breath', 1),\n",
              " ('tight', 1),\n",
              " ('chest', 1),\n",
              " ('super', 1)]"
            ]
          },
          "execution_count": 24,
          "metadata": {},
          "output_type": "execute_result"
        }
      ],
      "source": [
        "token_freq_dist = nltk.FreqDist(test_expr_tokens)\n",
        "token_freq_dist.most_common(20)"
      ]
    },
    {
      "cell_type": "code",
      "execution_count": null,
      "metadata": {
        "id": "YQEx7E1biS1n"
      },
      "outputs": [],
      "source": [
        "test_symptom.expression_list += ['feels bad', 'feels rly bad']"
      ]
    },
    {
      "cell_type": "code",
      "execution_count": null,
      "metadata": {
        "id": "RdLVVy0vi-87"
      },
      "outputs": [],
      "source": [
        "\"\"\"\n",
        "# possible approach\n",
        "\n",
        "# convert all expressions to tf-idf representation\n",
        "instead use category frequency instead of tf\n",
        "in other words, get count vector of all expressions in category A, then divide each value by the count vectors in all categories\n",
        "\n",
        "\"\"\""
      ]
    }
  ],
  "metadata": {
    "colab": {
      "provenance": []
    },
    "kernelspec": {
      "display_name": "Python 3",
      "name": "python3"
    },
    "language_info": {
      "codemirror_mode": {
        "name": "ipython",
        "version": 3
      },
      "file_extension": ".py",
      "mimetype": "text/x-python",
      "name": "python",
      "nbconvert_exporter": "python",
      "pygments_lexer": "ipython3",
      "version": "3.9.18"
    }
  },
  "nbformat": 4,
  "nbformat_minor": 0
}
